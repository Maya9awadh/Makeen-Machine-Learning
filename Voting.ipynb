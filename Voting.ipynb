{
 "cells": [
  {
   "cell_type": "code",
   "execution_count": 5,
   "metadata": {},
   "outputs": [],
   "source": [
    "#Imported library\n",
    "from sklearn.datasets import make_classification\n",
    "from sklearn.model_selection import train_test_split\n",
    "import numpy as np\n",
    "import pandas as pd\n",
    "from sklearn.ensemble import VotingClassifier\n",
    "from sklearn.linear_model import LogisticRegression\n",
    "from sklearn.tree import DecisionTreeClassifier\n",
    "\n",
    "from sklearn.metrics import accuracy_score"
   ]
  },
  {
   "cell_type": "code",
   "execution_count": 4,
   "metadata": {},
   "outputs": [],
   "source": [
    "#intialize x and y\n",
    "X, y = make_classification(\n",
    "    n_samples=1000, \n",
    "    n_features=20, \n",
    "    n_informative=2, \n",
    "    n_redundant=10,\n",
    "    random_state=42\n",
    ")"
   ]
  },
  {
   "cell_type": "code",
   "execution_count": 6,
   "metadata": {},
   "outputs": [],
   "source": [
    "# Convert to DataFrame for easier visualization and manipulation\n",
    "features = pd.DataFrame(X, columns=[f'feature_{idx + 1}' for idx in range(X.shape[1])])\n",
    "target = pd.Series(y, name='target')\n"
   ]
  },
  {
   "cell_type": "code",
   "execution_count": 7,
   "metadata": {},
   "outputs": [],
   "source": [
    "# Concatenate features and target into a single DataFrame\n",
    "data = pd.concat([features, target], axis=1)"
   ]
  },
  {
   "cell_type": "code",
   "execution_count": 8,
   "metadata": {},
   "outputs": [
    {
     "data": {
      "text/html": [
       "<div>\n",
       "<style scoped>\n",
       "    .dataframe tbody tr th:only-of-type {\n",
       "        vertical-align: middle;\n",
       "    }\n",
       "\n",
       "    .dataframe tbody tr th {\n",
       "        vertical-align: top;\n",
       "    }\n",
       "\n",
       "    .dataframe thead th {\n",
       "        text-align: right;\n",
       "    }\n",
       "</style>\n",
       "<table border=\"1\" class=\"dataframe\">\n",
       "  <thead>\n",
       "    <tr style=\"text-align: right;\">\n",
       "      <th></th>\n",
       "      <th>feature_1</th>\n",
       "      <th>feature_2</th>\n",
       "      <th>feature_3</th>\n",
       "      <th>feature_4</th>\n",
       "      <th>feature_5</th>\n",
       "      <th>feature_6</th>\n",
       "      <th>feature_7</th>\n",
       "      <th>feature_8</th>\n",
       "      <th>feature_9</th>\n",
       "      <th>feature_10</th>\n",
       "      <th>...</th>\n",
       "      <th>feature_12</th>\n",
       "      <th>feature_13</th>\n",
       "      <th>feature_14</th>\n",
       "      <th>feature_15</th>\n",
       "      <th>feature_16</th>\n",
       "      <th>feature_17</th>\n",
       "      <th>feature_18</th>\n",
       "      <th>feature_19</th>\n",
       "      <th>feature_20</th>\n",
       "      <th>target</th>\n",
       "    </tr>\n",
       "  </thead>\n",
       "  <tbody>\n",
       "    <tr>\n",
       "      <th>0</th>\n",
       "      <td>-0.496932</td>\n",
       "      <td>-0.339122</td>\n",
       "      <td>0.229146</td>\n",
       "      <td>-0.182569</td>\n",
       "      <td>-1.041103</td>\n",
       "      <td>0.421546</td>\n",
       "      <td>-1.015179</td>\n",
       "      <td>0.767666</td>\n",
       "      <td>-1.633819</td>\n",
       "      <td>-0.453981</td>\n",
       "      <td>...</td>\n",
       "      <td>0.123134</td>\n",
       "      <td>0.977832</td>\n",
       "      <td>0.370061</td>\n",
       "      <td>0.266818</td>\n",
       "      <td>0.153306</td>\n",
       "      <td>-0.320119</td>\n",
       "      <td>-1.179273</td>\n",
       "      <td>0.457806</td>\n",
       "      <td>0.356006</td>\n",
       "      <td>0</td>\n",
       "    </tr>\n",
       "    <tr>\n",
       "      <th>1</th>\n",
       "      <td>0.012499</td>\n",
       "      <td>1.007444</td>\n",
       "      <td>0.140096</td>\n",
       "      <td>2.868403</td>\n",
       "      <td>-2.123507</td>\n",
       "      <td>-1.280456</td>\n",
       "      <td>-1.323388</td>\n",
       "      <td>1.420631</td>\n",
       "      <td>-2.725525</td>\n",
       "      <td>-1.325920</td>\n",
       "      <td>...</td>\n",
       "      <td>-0.054783</td>\n",
       "      <td>1.852633</td>\n",
       "      <td>-1.254923</td>\n",
       "      <td>0.189480</td>\n",
       "      <td>0.277478</td>\n",
       "      <td>-0.199386</td>\n",
       "      <td>-1.763853</td>\n",
       "      <td>0.937916</td>\n",
       "      <td>0.459363</td>\n",
       "      <td>0</td>\n",
       "    </tr>\n",
       "    <tr>\n",
       "      <th>2</th>\n",
       "      <td>-0.720212</td>\n",
       "      <td>-1.244486</td>\n",
       "      <td>-0.472291</td>\n",
       "      <td>-1.125655</td>\n",
       "      <td>-0.729670</td>\n",
       "      <td>1.010840</td>\n",
       "      <td>0.733484</td>\n",
       "      <td>0.257335</td>\n",
       "      <td>0.028566</td>\n",
       "      <td>-1.091580</td>\n",
       "      <td>...</td>\n",
       "      <td>-0.505305</td>\n",
       "      <td>0.411076</td>\n",
       "      <td>0.449827</td>\n",
       "      <td>3.529055</td>\n",
       "      <td>0.039350</td>\n",
       "      <td>0.652697</td>\n",
       "      <td>0.413948</td>\n",
       "      <td>-0.538790</td>\n",
       "      <td>-0.266361</td>\n",
       "      <td>0</td>\n",
       "    </tr>\n",
       "    <tr>\n",
       "      <th>3</th>\n",
       "      <td>-0.697364</td>\n",
       "      <td>-0.082698</td>\n",
       "      <td>-0.512911</td>\n",
       "      <td>1.138150</td>\n",
       "      <td>2.297500</td>\n",
       "      <td>-2.072355</td>\n",
       "      <td>2.256809</td>\n",
       "      <td>-1.697290</td>\n",
       "      <td>3.618918</td>\n",
       "      <td>0.993004</td>\n",
       "      <td>...</td>\n",
       "      <td>-0.278493</td>\n",
       "      <td>-2.161010</td>\n",
       "      <td>1.136191</td>\n",
       "      <td>0.154032</td>\n",
       "      <td>-0.339092</td>\n",
       "      <td>0.716461</td>\n",
       "      <td>2.616592</td>\n",
       "      <td>1.334229</td>\n",
       "      <td>-0.791529</td>\n",
       "      <td>1</td>\n",
       "    </tr>\n",
       "    <tr>\n",
       "      <th>4</th>\n",
       "      <td>-0.202339</td>\n",
       "      <td>-1.553035</td>\n",
       "      <td>-0.090793</td>\n",
       "      <td>-0.183245</td>\n",
       "      <td>0.664007</td>\n",
       "      <td>-0.326614</td>\n",
       "      <td>0.521091</td>\n",
       "      <td>-0.465061</td>\n",
       "      <td>0.939386</td>\n",
       "      <td>0.357189</td>\n",
       "      <td>...</td>\n",
       "      <td>-0.026790</td>\n",
       "      <td>-0.599667</td>\n",
       "      <td>-1.403559</td>\n",
       "      <td>1.985380</td>\n",
       "      <td>-0.091821</td>\n",
       "      <td>0.127459</td>\n",
       "      <td>0.643637</td>\n",
       "      <td>2.254038</td>\n",
       "      <td>-0.181938</td>\n",
       "      <td>1</td>\n",
       "    </tr>\n",
       "  </tbody>\n",
       "</table>\n",
       "<p>5 rows × 21 columns</p>\n",
       "</div>"
      ],
      "text/plain": [
       "   feature_1  feature_2  feature_3  feature_4  feature_5  feature_6  \\\n",
       "0  -0.496932  -0.339122   0.229146  -0.182569  -1.041103   0.421546   \n",
       "1   0.012499   1.007444   0.140096   2.868403  -2.123507  -1.280456   \n",
       "2  -0.720212  -1.244486  -0.472291  -1.125655  -0.729670   1.010840   \n",
       "3  -0.697364  -0.082698  -0.512911   1.138150   2.297500  -2.072355   \n",
       "4  -0.202339  -1.553035  -0.090793  -0.183245   0.664007  -0.326614   \n",
       "\n",
       "   feature_7  feature_8  feature_9  feature_10  ...  feature_12  feature_13  \\\n",
       "0  -1.015179   0.767666  -1.633819   -0.453981  ...    0.123134    0.977832   \n",
       "1  -1.323388   1.420631  -2.725525   -1.325920  ...   -0.054783    1.852633   \n",
       "2   0.733484   0.257335   0.028566   -1.091580  ...   -0.505305    0.411076   \n",
       "3   2.256809  -1.697290   3.618918    0.993004  ...   -0.278493   -2.161010   \n",
       "4   0.521091  -0.465061   0.939386    0.357189  ...   -0.026790   -0.599667   \n",
       "\n",
       "   feature_14  feature_15  feature_16  feature_17  feature_18  feature_19  \\\n",
       "0    0.370061    0.266818    0.153306   -0.320119   -1.179273    0.457806   \n",
       "1   -1.254923    0.189480    0.277478   -0.199386   -1.763853    0.937916   \n",
       "2    0.449827    3.529055    0.039350    0.652697    0.413948   -0.538790   \n",
       "3    1.136191    0.154032   -0.339092    0.716461    2.616592    1.334229   \n",
       "4   -1.403559    1.985380   -0.091821    0.127459    0.643637    2.254038   \n",
       "\n",
       "   feature_20  target  \n",
       "0    0.356006       0  \n",
       "1    0.459363       0  \n",
       "2   -0.266361       0  \n",
       "3   -0.791529       1  \n",
       "4   -0.181938       1  \n",
       "\n",
       "[5 rows x 21 columns]"
      ]
     },
     "execution_count": 8,
     "metadata": {},
     "output_type": "execute_result"
    }
   ],
   "source": [
    "data.head()"
   ]
  },
  {
   "cell_type": "code",
   "execution_count": 9,
   "metadata": {},
   "outputs": [],
   "source": [
    "lr_clf = LogisticRegression()\n",
    "dt_clf = DecisionTreeClassifier()"
   ]
  },
  {
   "cell_type": "code",
   "execution_count": 10,
   "metadata": {},
   "outputs": [],
   "source": [
    "voting_clf = VotingClassifier(\n",
    "    estimators=[('lr', lr_clf), ('dt', dt_clf)],\n",
    "    voting='hard')"
   ]
  },
  {
   "cell_type": "code",
   "execution_count": 12,
   "metadata": {},
   "outputs": [],
   "source": [
    "X_train, X_test, y_train, y_test = train_test_split(X, y)"
   ]
  },
  {
   "cell_type": "code",
   "execution_count": 13,
   "metadata": {},
   "outputs": [
    {
     "data": {
      "text/html": [
       "<style>#sk-container-id-1 {color: black;background-color: white;}#sk-container-id-1 pre{padding: 0;}#sk-container-id-1 div.sk-toggleable {background-color: white;}#sk-container-id-1 label.sk-toggleable__label {cursor: pointer;display: block;width: 100%;margin-bottom: 0;padding: 0.3em;box-sizing: border-box;text-align: center;}#sk-container-id-1 label.sk-toggleable__label-arrow:before {content: \"▸\";float: left;margin-right: 0.25em;color: #696969;}#sk-container-id-1 label.sk-toggleable__label-arrow:hover:before {color: black;}#sk-container-id-1 div.sk-estimator:hover label.sk-toggleable__label-arrow:before {color: black;}#sk-container-id-1 div.sk-toggleable__content {max-height: 0;max-width: 0;overflow: hidden;text-align: left;background-color: #f0f8ff;}#sk-container-id-1 div.sk-toggleable__content pre {margin: 0.2em;color: black;border-radius: 0.25em;background-color: #f0f8ff;}#sk-container-id-1 input.sk-toggleable__control:checked~div.sk-toggleable__content {max-height: 200px;max-width: 100%;overflow: auto;}#sk-container-id-1 input.sk-toggleable__control:checked~label.sk-toggleable__label-arrow:before {content: \"▾\";}#sk-container-id-1 div.sk-estimator input.sk-toggleable__control:checked~label.sk-toggleable__label {background-color: #d4ebff;}#sk-container-id-1 div.sk-label input.sk-toggleable__control:checked~label.sk-toggleable__label {background-color: #d4ebff;}#sk-container-id-1 input.sk-hidden--visually {border: 0;clip: rect(1px 1px 1px 1px);clip: rect(1px, 1px, 1px, 1px);height: 1px;margin: -1px;overflow: hidden;padding: 0;position: absolute;width: 1px;}#sk-container-id-1 div.sk-estimator {font-family: monospace;background-color: #f0f8ff;border: 1px dotted black;border-radius: 0.25em;box-sizing: border-box;margin-bottom: 0.5em;}#sk-container-id-1 div.sk-estimator:hover {background-color: #d4ebff;}#sk-container-id-1 div.sk-parallel-item::after {content: \"\";width: 100%;border-bottom: 1px solid gray;flex-grow: 1;}#sk-container-id-1 div.sk-label:hover label.sk-toggleable__label {background-color: #d4ebff;}#sk-container-id-1 div.sk-serial::before {content: \"\";position: absolute;border-left: 1px solid gray;box-sizing: border-box;top: 0;bottom: 0;left: 50%;z-index: 0;}#sk-container-id-1 div.sk-serial {display: flex;flex-direction: column;align-items: center;background-color: white;padding-right: 0.2em;padding-left: 0.2em;position: relative;}#sk-container-id-1 div.sk-item {position: relative;z-index: 1;}#sk-container-id-1 div.sk-parallel {display: flex;align-items: stretch;justify-content: center;background-color: white;position: relative;}#sk-container-id-1 div.sk-item::before, #sk-container-id-1 div.sk-parallel-item::before {content: \"\";position: absolute;border-left: 1px solid gray;box-sizing: border-box;top: 0;bottom: 0;left: 50%;z-index: -1;}#sk-container-id-1 div.sk-parallel-item {display: flex;flex-direction: column;z-index: 1;position: relative;background-color: white;}#sk-container-id-1 div.sk-parallel-item:first-child::after {align-self: flex-end;width: 50%;}#sk-container-id-1 div.sk-parallel-item:last-child::after {align-self: flex-start;width: 50%;}#sk-container-id-1 div.sk-parallel-item:only-child::after {width: 0;}#sk-container-id-1 div.sk-dashed-wrapped {border: 1px dashed gray;margin: 0 0.4em 0.5em 0.4em;box-sizing: border-box;padding-bottom: 0.4em;background-color: white;}#sk-container-id-1 div.sk-label label {font-family: monospace;font-weight: bold;display: inline-block;line-height: 1.2em;}#sk-container-id-1 div.sk-label-container {text-align: center;}#sk-container-id-1 div.sk-container {/* jupyter's `normalize.less` sets `[hidden] { display: none; }` but bootstrap.min.css set `[hidden] { display: none !important; }` so we also need the `!important` here to be able to override the default hidden behavior on the sphinx rendered scikit-learn.org. See: https://github.com/scikit-learn/scikit-learn/issues/21755 */display: inline-block !important;position: relative;}#sk-container-id-1 div.sk-text-repr-fallback {display: none;}</style><div id=\"sk-container-id-1\" class=\"sk-top-container\"><div class=\"sk-text-repr-fallback\"><pre>VotingClassifier(estimators=[(&#x27;lr&#x27;, LogisticRegression()),\n",
       "                             (&#x27;dt&#x27;, DecisionTreeClassifier())])</pre><b>In a Jupyter environment, please rerun this cell to show the HTML representation or trust the notebook. <br />On GitHub, the HTML representation is unable to render, please try loading this page with nbviewer.org.</b></div><div class=\"sk-container\" hidden><div class=\"sk-item sk-dashed-wrapped\"><div class=\"sk-label-container\"><div class=\"sk-label sk-toggleable\"><input class=\"sk-toggleable__control sk-hidden--visually\" id=\"sk-estimator-id-1\" type=\"checkbox\" ><label for=\"sk-estimator-id-1\" class=\"sk-toggleable__label sk-toggleable__label-arrow\">VotingClassifier</label><div class=\"sk-toggleable__content\"><pre>VotingClassifier(estimators=[(&#x27;lr&#x27;, LogisticRegression()),\n",
       "                             (&#x27;dt&#x27;, DecisionTreeClassifier())])</pre></div></div></div><div class=\"sk-parallel\"><div class=\"sk-parallel-item\"><div class=\"sk-item\"><div class=\"sk-label-container\"><div class=\"sk-label sk-toggleable\"><label>lr</label></div></div><div class=\"sk-serial\"><div class=\"sk-item\"><div class=\"sk-estimator sk-toggleable\"><input class=\"sk-toggleable__control sk-hidden--visually\" id=\"sk-estimator-id-2\" type=\"checkbox\" ><label for=\"sk-estimator-id-2\" class=\"sk-toggleable__label sk-toggleable__label-arrow\">LogisticRegression</label><div class=\"sk-toggleable__content\"><pre>LogisticRegression()</pre></div></div></div></div></div></div><div class=\"sk-parallel-item\"><div class=\"sk-item\"><div class=\"sk-label-container\"><div class=\"sk-label sk-toggleable\"><label>dt</label></div></div><div class=\"sk-serial\"><div class=\"sk-item\"><div class=\"sk-estimator sk-toggleable\"><input class=\"sk-toggleable__control sk-hidden--visually\" id=\"sk-estimator-id-3\" type=\"checkbox\" ><label for=\"sk-estimator-id-3\" class=\"sk-toggleable__label sk-toggleable__label-arrow\">DecisionTreeClassifier</label><div class=\"sk-toggleable__content\"><pre>DecisionTreeClassifier()</pre></div></div></div></div></div></div></div></div></div></div>"
      ],
      "text/plain": [
       "VotingClassifier(estimators=[('lr', LogisticRegression()),\n",
       "                             ('dt', DecisionTreeClassifier())])"
      ]
     },
     "execution_count": 13,
     "metadata": {},
     "output_type": "execute_result"
    }
   ],
   "source": [
    "\n",
    "voting_clf.fit(X_train, y_train)"
   ]
  },
  {
   "cell_type": "code",
   "execution_count": 14,
   "metadata": {},
   "outputs": [
    {
     "name": "stdout",
     "output_type": "stream",
     "text": [
      "LogisticRegression 0.844\n",
      "VotingClassifier 0.848\n"
     ]
    }
   ],
   "source": [
    "for clf in (lr_clf, voting_clf):\n",
    "    clf.fit(X_train, y_train)\n",
    "    y_pred = clf.predict(X_test)\n",
    "    print(clf.__class__.__name__, accuracy_score(y_test, y_pred))"
   ]
  },
  {
   "cell_type": "code",
   "execution_count": 15,
   "metadata": {},
   "outputs": [
    {
     "name": "stdout",
     "output_type": "stream",
     "text": [
      "DecisionTreeClassifier 0.88\n",
      "VotingClassifier 0.856\n"
     ]
    }
   ],
   "source": [
    "for clf in (dt_clf, voting_clf):\n",
    "    clf.fit(X_train, y_train)\n",
    "    y_pred = clf.predict(X_test)\n",
    "    print(clf.__class__.__name__, accuracy_score(y_test, y_pred))"
   ]
  }
 ],
 "metadata": {
  "kernelspec": {
   "display_name": "base",
   "language": "python",
   "name": "python3"
  },
  "language_info": {
   "codemirror_mode": {
    "name": "ipython",
    "version": 3
   },
   "file_extension": ".py",
   "mimetype": "text/x-python",
   "name": "python",
   "nbconvert_exporter": "python",
   "pygments_lexer": "ipython3",
   "version": "3.8.5"
  },
  "orig_nbformat": 4
 },
 "nbformat": 4,
 "nbformat_minor": 2
}
